{
 "cells": [
  {
   "cell_type": "markdown",
   "metadata": {},
   "source": [
    "# Using Keras for MNIST dataset"
   ]
  },
  {
   "cell_type": "code",
   "execution_count": 2,
   "metadata": {},
   "outputs": [
    {
     "name": "stderr",
     "output_type": "stream",
     "text": [
      "Using TensorFlow backend.\n"
     ]
    }
   ],
   "source": [
    "import tensorflow as tf\n",
    "from tensorflow.examples.tutorials.mnist import input_data\n",
    "from keras.models import Sequential\n",
    "from keras.layers import Dense, Dropout, Activation, Flatten\n",
    "from keras.layers import Convolution2D, MaxPooling2D\n",
    "from keras import backend as K"
   ]
  },
  {
   "cell_type": "code",
   "execution_count": 3,
   "metadata": {},
   "outputs": [
    {
     "name": "stdout",
     "output_type": "stream",
     "text": [
      "Extracting MNIST_data/train-images-idx3-ubyte.gz\n",
      "Extracting MNIST_data/train-labels-idx1-ubyte.gz\n",
      "Extracting MNIST_data/t10k-images-idx3-ubyte.gz\n",
      "Extracting MNIST_data/t10k-labels-idx1-ubyte.gz\n"
     ]
    }
   ],
   "source": [
    "mnist = input_data.read_data_sets(\"MNIST_data/\", one_hot=True)"
   ]
  },
  {
   "cell_type": "code",
   "execution_count": 6,
   "metadata": {},
   "outputs": [
    {
     "name": "stderr",
     "output_type": "stream",
     "text": [
      "/Users/r_xian/anaconda/envs/tensorflow/lib/python2.7/site-packages/ipykernel_launcher.py:20: UserWarning: Update your `Conv2D` call to the Keras 2 API: `Conv2D(32, (3, 3), padding=\"valid\", input_shape=(28, 28, 1...)`\n",
      "/Users/r_xian/anaconda/envs/tensorflow/lib/python2.7/site-packages/ipykernel_launcher.py:25: UserWarning: Update your `Conv2D` call to the Keras 2 API: `Conv2D(32, (3, 3))`\n"
     ]
    },
    {
     "name": "stdout",
     "output_type": "stream",
     "text": [
      "Train on 55000 samples, validate on 10000 samples\n",
      "Epoch 1/2\n",
      "55000/55000 [==============================] - 43s - loss: 0.3775 - acc: 0.8851 - val_loss: 0.0810 - val_acc: 0.9739\n",
      "Epoch 2/2\n",
      "55000/55000 [==============================] - 42s - loss: 0.1177 - acc: 0.9648 - val_loss: 0.0489 - val_acc: 0.9841\n"
     ]
    },
    {
     "data": {
      "text/plain": [
       "<keras.callbacks.History at 0x12159f290>"
      ]
     },
     "execution_count": 6,
     "metadata": {},
     "output_type": "execute_result"
    }
   ],
   "source": [
    "s = tf.InteractiveSession()\n",
    "image_rows, image_cols = 28, 28\n",
    "\n",
    "# Reshape the training and testing images to 28x28x1\n",
    "train_images = mnist.train.images.reshape(mnist.train.images.shape[0], image_rows, image_cols, 1)\n",
    "test_images = mnist.test.images.reshape(mnist.test.images.shape[0], image_rows, image_cols, 1)\n",
    "\n",
    "# Assign values to the layers\n",
    "num_filters = 32\n",
    "max_pool_size = (2, 2)\n",
    "conv_kernel_size = (3, 3)\n",
    "imag_shape = (28, 28, 1)\n",
    "num_classes = 10\n",
    "drop_prob = 0.5\n",
    "\n",
    "# Initiate the neural network\n",
    "model = Sequential()\n",
    "\n",
    "# Add first convolution layer\n",
    "model.add(Convolution2D(num_filters, conv_kernel_size[0], conv_kernel_size[1], border_mode='valid',\\\n",
    "                       input_shape=imag_shape))\n",
    "model.add(Activation('relu'))\n",
    "model.add(MaxPooling2D(pool_size=max_pool_size))\n",
    "\n",
    "# Add second convolution layer\n",
    "model.add(Convolution2D(num_filters, conv_kernel_size[0], conv_kernel_size[1]))\n",
    "model.add(Activation('relu'))\n",
    "model.add(MaxPooling2D(pool_size=max_pool_size))\n",
    "\n",
    "# Add fully-connected layer\n",
    "model.add(Flatten())\n",
    "model.add(Dense(128))\n",
    "model.add(Activation('relu'))\n",
    "\n",
    "# Perform dropout\n",
    "model.add(Dropout(drop_prob))\n",
    "\n",
    "# Add readout layer\n",
    "model.add(Dense(num_classes))\n",
    "model.add(Activation('softmax'))\n",
    "\n",
    "model.compile(loss='categorical_crossentropy', optimizer='adam', metrics=['accuracy'])\n",
    "\n",
    "batch_size = 128\n",
    "num_epoch = 2\n",
    "\n",
    "model.fit(train_images, mnist.train.labels, batch_size=batch_size, epochs=num_epoch,\\\n",
    "         verbose=1, validation_data=(test_images, mnist.test.labels))"
   ]
  },
  {
   "cell_type": "code",
   "execution_count": null,
   "metadata": {
    "collapsed": true
   },
   "outputs": [],
   "source": []
  }
 ],
 "metadata": {
  "kernelspec": {
   "display_name": "Python 2",
   "language": "python",
   "name": "python2"
  },
  "language_info": {
   "codemirror_mode": {
    "name": "ipython",
    "version": 2
   },
   "file_extension": ".py",
   "mimetype": "text/x-python",
   "name": "python",
   "nbconvert_exporter": "python",
   "pygments_lexer": "ipython2",
   "version": "2.7.12"
  }
 },
 "nbformat": 4,
 "nbformat_minor": 2
}
